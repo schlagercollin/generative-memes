{
 "cells": [
  {
   "cell_type": "code",
   "execution_count": 3,
   "id": "0c91d8f9-7516-4b84-b9fb-29e03d77a2a4",
   "metadata": {},
   "outputs": [],
   "source": [
    "import pandas as pd\n",
    "import bs4\n",
    "\n",
    "import requests\n",
    "import shutil\n",
    "\n",
    "import time\n",
    "from tqdm.auto import tqdm"
   ]
  },
  {
   "cell_type": "code",
   "execution_count": 13,
   "id": "3c98b918-9f00-43dc-bdb2-334770ee69ec",
   "metadata": {},
   "outputs": [],
   "source": [
    "def download_img_url(url, filename):\n",
    "    response = requests.get(url, stream=True)\n",
    "    with open(filename, 'wb') as out_file:\n",
    "        shutil.copyfileobj(response.raw, out_file)\n",
    "    del response\n",
    "\n",
    "    \n",
    "def get_img_tags(page_num):\n",
    "    url = f\"https://imgflip.com/memetemplates?sort=top-all-time&page={page_num}\"\n",
    "    # url = f\"https://imgflip.com/memetemplates?page={page_num}?sort=top-new\"\n",
    "    response = requests.get(url)\n",
    "    soup = bs4.BeautifulSoup(response.content)\n",
    "    selection = soup.find_all(\"img\", {\"class\": \"shadow\"})\n",
    "    return selection\n",
    "\n",
    "\n",
    "def download_img_srcs(img_tags, dest_dir=\"./templates\", time_lag=0.05):\n",
    "    imgs = []\n",
    "    for img_tag in img_tags:\n",
    "        \n",
    "        # get meme template name\n",
    "        name = img_tag[\"alt\"].replace(\" \", \"-\")\n",
    "        name = name.replace(\"/\", \"\")\n",
    "        dest_file = dest_dir + \"/\" + name + \".jpg\"\n",
    "        \n",
    "        # get img url\n",
    "        img_url = \"http://\" + img_tag[\"src\"][2:]\n",
    "\n",
    "        # download it to dest_file\n",
    "        download_img_url(img_url, dest_file)\n",
    "        \n",
    "        # sleep to space out requests\n",
    "        time.sleep(time_lag)\n",
    "        \n",
    "def download_meme_templates_from_page(page_num):\n",
    "    img_tags = get_img_tags(page_num)\n",
    "    download_img_srcs(img_tags)"
   ]
  },
  {
   "cell_type": "code",
   "execution_count": 14,
   "id": "5ac0f82f-100b-4429-8661-38f8e01850be",
   "metadata": {},
   "outputs": [
    {
     "data": {
      "application/vnd.jupyter.widget-view+json": {
       "model_id": "c0531c738a314a12ab9d72521dd9bc27",
       "version_major": 2,
       "version_minor": 0
      },
      "text/plain": [
       "  0%|          | 0/48 [00:00<?, ?it/s]"
      ]
     },
     "metadata": {},
     "output_type": "display_data"
    }
   ],
   "source": [
    "# download for pages (up to 49)\n",
    "for i in tqdm(range(2, 50)):\n",
    "    download_meme_templates_from_page(i)"
   ]
  },
  {
   "cell_type": "code",
   "execution_count": 16,
   "id": "fc77f258-826d-47e0-91f5-567cd3290577",
   "metadata": {},
   "outputs": [
    {
     "data": {
      "text/plain": [
       "1924"
      ]
     },
     "execution_count": 16,
     "metadata": {},
     "output_type": "execute_result"
    }
   ],
   "source": [
    "import os\n",
    "len(os.listdir(\"templates/\"))"
   ]
  },
  {
   "cell_type": "code",
   "execution_count": null,
   "id": "f6744003-5105-4d29-9c46-7f35cae35cc7",
   "metadata": {},
   "outputs": [],
   "source": []
  }
 ],
 "metadata": {
  "kernelspec": {
   "display_name": "Python 3 (ipykernel)",
   "language": "python",
   "name": "python3"
  },
  "language_info": {
   "codemirror_mode": {
    "name": "ipython",
    "version": 3
   },
   "file_extension": ".py",
   "mimetype": "text/x-python",
   "name": "python",
   "nbconvert_exporter": "python",
   "pygments_lexer": "ipython3",
   "version": "3.9.10"
  }
 },
 "nbformat": 4,
 "nbformat_minor": 5
}
